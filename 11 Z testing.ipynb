{
 "cells": [
  {
   "cell_type": "code",
   "execution_count": 1,
   "id": "9acba079-0de1-43e1-8983-4b0b04325433",
   "metadata": {},
   "outputs": [],
   "source": [
    "# A teacher claim that te mean score of student in his class is greater then 82 with a standard deviosion of 20.if a sample of 81 student was selected with a mean score of 90."
   ]
  },
  {
   "cell_type": "code",
   "execution_count": 6,
   "id": "68ea9a10-a0b0-4210-b4b8-b96de0a1bee9",
   "metadata": {},
   "outputs": [
    {
     "name": "stdout",
     "output_type": "stream",
     "text": [
      "Requirement already satisfied: scipy in c:\\users\\sumit\\appdata\\local\\programs\\python\\python313\\lib\\site-packages (1.16.0)\n",
      "Requirement already satisfied: numpy<2.6,>=1.25.2 in c:\\users\\sumit\\appdata\\local\\programs\\python\\python313\\lib\\site-packages (from scipy) (2.2.2)\n",
      "Note: you may need to restart the kernel to use updated packages.\n"
     ]
    },
    {
     "name": "stderr",
     "output_type": "stream",
     "text": [
      "WARNING: Ignoring invalid distribution ~ip (C:\\Users\\sumit\\AppData\\Local\\Programs\\Python\\Python313\\Lib\\site-packages)\n",
      "WARNING: Ignoring invalid distribution ~ip (C:\\Users\\sumit\\AppData\\Local\\Programs\\Python\\Python313\\Lib\\site-packages)\n",
      "WARNING: Ignoring invalid distribution ~ip (C:\\Users\\sumit\\AppData\\Local\\Programs\\Python\\Python313\\Lib\\site-packages)\n"
     ]
    }
   ],
   "source": [
    "%pip install scipy"
   ]
  },
  {
   "cell_type": "code",
   "execution_count": 7,
   "id": "766834f5-20a3-41a6-9c32-054f9282321c",
   "metadata": {},
   "outputs": [],
   "source": [
    "import scipy.stats as st\n",
    "import numpy as np"
   ]
  },
  {
   "cell_type": "code",
   "execution_count": 10,
   "id": "943db151-9aa3-427b-9c59-6d8f3aeadd0c",
   "metadata": {},
   "outputs": [],
   "source": [
    "s_x =90   #sample mean\n",
    "p_u =82   #population mean\n",
    "p_std= 20   #standard deviation\n",
    "n=81\n",
    "ap=0.05"
   ]
  },
  {
   "cell_type": "code",
   "execution_count": 11,
   "id": "eb221fa5-aa7c-4973-98ec-b0c73157c158",
   "metadata": {},
   "outputs": [
    {
     "data": {
      "text/plain": [
       "np.float64(3.5999999999999996)"
      ]
     },
     "execution_count": 11,
     "metadata": {},
     "output_type": "execute_result"
    }
   ],
   "source": [
    "z_cal = (s_x-p_u)/(p_std/np.sqrt(n))\n",
    "z_cal"
   ]
  },
  {
   "cell_type": "code",
   "execution_count": 12,
   "id": "4d5fba5f-a4a2-41af-ba68-29ed99e7af8a",
   "metadata": {},
   "outputs": [
    {
     "data": {
      "text/plain": [
       "np.float64(1.6448536269514722)"
      ]
     },
     "execution_count": 12,
     "metadata": {},
     "output_type": "execute_result"
    }
   ],
   "source": [
    "z_table = st.norm.ppf(1-ap)\n",
    "z_table"
   ]
  },
  {
   "cell_type": "code",
   "execution_count": 13,
   "id": "bd7dc376-2be9-4170-bb63-0d6122bc2be4",
   "metadata": {},
   "outputs": [
    {
     "name": "stdout",
     "output_type": "stream",
     "text": [
      "H alpha is right\n"
     ]
    }
   ],
   "source": [
    "if z_table < z_cal:\n",
    "    print(\"H alpha is right\")\n",
    "else:\n",
    "    print(\"H nought is right\")"
   ]
  },
  {
   "cell_type": "code",
   "execution_count": 14,
   "id": "00f33996-7941-4298-92e5-8e9a9b409302",
   "metadata": {},
   "outputs": [],
   "source": [
    "#example 2 \n",
    "#Scenario: imagine you work e-commerce company, and your team is responsible for analyzing customer purchase data. You want to determine whether a website design has led to a significant increase in the average purchase amount compared to the old design.\n",
    "#Data: You have collected data from a random sample of 30 customers who made purchases on the old website design and 30 customers who made purchases on the new website design. You sample means, sample standard deviations, and sample sizes for both groups.\n"
   ]
  },
  {
   "cell_type": "code",
   "execution_count": 15,
   "id": "5b23a3af-5f16-469d-9a55-68b95c9cd135",
   "metadata": {},
   "outputs": [],
   "source": [
    "import scipy.stats as st\n",
    "import numpy as np"
   ]
  },
  {
   "cell_type": "code",
   "execution_count": 24,
   "id": "424be9dd-b0be-4d5b-9053-5a085dd9d90d",
   "metadata": {},
   "outputs": [],
   "source": [
    "pop_std = 2.5 #given\n",
    "n_sp = len(New_design_data)\n",
    "apl = 0.05     #significance level"
   ]
  },
  {
   "cell_type": "code",
   "execution_count": 25,
   "id": "2df4bfb7-b9fb-4cb6-b60a-9e7fced6eef3",
   "metadata": {},
   "outputs": [],
   "source": [
    "old_design_data = np.array([45.2, 42.8, 38.9, 43.5, 41.0, 44.6, 40.5, 42.7, 39.8, 41.4, 44.3, 39.7, 41.5, 39.6, 44.0, 43.1, 38.7, 43.9, 42.0, 41.9, 42.8, 43.7, 41.3, 40.9, 42.5, 41.6])\n",
    "New_design_data = np.array([48.5, 49.1, 50.2, 47.8, 48.7, 49.9, 48.0, 50.5, 49.8, 49.6, 48.2,48.9,49.7,50.3, 50.1, 48.6, 48.3, 49.0, 50.0, 48.4, 49.3, 49.5, 48.8, 50.6, 50.4, 48.1, 49.2, 50.7, 50.8])\n",
    "\n"
   ]
  },
  {
   "cell_type": "code",
   "execution_count": 26,
   "id": "41b65999-c856-4c30-b2f9-4b0187a3d444",
   "metadata": {},
   "outputs": [],
   "source": [
    "mean_new = np.mean(New_design_data)\n",
    "mean_old = np.mean(old_design_data)"
   ]
  },
  {
   "cell_type": "code",
   "execution_count": 27,
   "id": "19fe14bf-8c8c-4829-943a-2fa60cb3430b",
   "metadata": {},
   "outputs": [
    {
     "data": {
      "text/plain": [
       "np.float64(15.829527681618888)"
      ]
     },
     "execution_count": 27,
     "metadata": {},
     "output_type": "execute_result"
    }
   ],
   "source": [
    "z_cal = (mean_new - mean_old)/(pop_std/np.sqrt(n_sp))\n",
    "z_cal"
   ]
  },
  {
   "cell_type": "code",
   "execution_count": 28,
   "id": "f60873b2-17f9-482d-8bfe-18cb55f011cd",
   "metadata": {},
   "outputs": [
    {
     "data": {
      "text/plain": [
       "np.float64(1.6448536269514722)"
      ]
     },
     "execution_count": 28,
     "metadata": {},
     "output_type": "execute_result"
    }
   ],
   "source": [
    "z_table = st.norm.ppf(1-apl)\n",
    "z_table"
   ]
  },
  {
   "cell_type": "code",
   "execution_count": 29,
   "id": "129b7fad-738e-45a5-90cf-6c3c4f54dcd1",
   "metadata": {},
   "outputs": [
    {
     "name": "stdout",
     "output_type": "stream",
     "text": [
      "H alpha is right\n"
     ]
    }
   ],
   "source": [
    "if z_cal > z_table:\n",
    "    print(\"H alpha is right\")\n",
    "else:\n",
    "    print(\"H nought is right\")"
   ]
  },
  {
   "cell_type": "code",
   "execution_count": 30,
   "id": "ecb97910-7e81-434d-ac4e-35868a97ffef",
   "metadata": {},
   "outputs": [],
   "source": [
    "#An online medicine shop claims that the mean delivery time for medicines is less than 120 minutes with a standard deviation of 30 minutes. Is there enough evidence to support this claim at a 0.05 significance level if 49 orders were examined with a mean of 100 minutes?"
   ]
  },
  {
   "cell_type": "code",
   "execution_count": 31,
   "id": "c8296bd1-379d-4224-9230-bf7055d57c58",
   "metadata": {},
   "outputs": [],
   "source": [
    "import scipy.stats as st\n",
    "import numpy as np"
   ]
  },
  {
   "cell_type": "code",
   "execution_count": 32,
   "id": "c4e712eb-be0b-4ce5-8b69-16c258ebbfba",
   "metadata": {},
   "outputs": [],
   "source": [
    "p_m = 120 #population mean\n",
    "s_m = 100 #sample mean\n",
    "std = 30  #standard deviation\n",
    "n = 49\n",
    "ap = 0.05 #significance value"
   ]
  },
  {
   "cell_type": "code",
   "execution_count": 33,
   "id": "3a4bba21-bb38-45f0-b8e1-62a72da1e347",
   "metadata": {},
   "outputs": [
    {
     "data": {
      "text/plain": [
       "np.float64(-4.666666666666667)"
      ]
     },
     "execution_count": 33,
     "metadata": {},
     "output_type": "execute_result"
    }
   ],
   "source": [
    "z_cal= (s_m - p_m)/(std/np.sqrt(n))\n",
    "z_cal"
   ]
  },
  {
   "cell_type": "code",
   "execution_count": 34,
   "id": "b48d3de5-74c6-4dc0-a11e-7f47614d76cb",
   "metadata": {},
   "outputs": [
    {
     "data": {
      "text/plain": [
       "np.float64(1.6448536269514722)"
      ]
     },
     "execution_count": 34,
     "metadata": {},
     "output_type": "execute_result"
    }
   ],
   "source": [
    "z_table = st.norm.ppf(1-ap)\n",
    "z_table"
   ]
  },
  {
   "cell_type": "code",
   "execution_count": 36,
   "id": "938c55c3-00f6-4f63-adc0-2a27c7417816",
   "metadata": {},
   "outputs": [
    {
     "name": "stdout",
     "output_type": "stream",
     "text": [
      "H nought is right\n"
     ]
    }
   ],
   "source": [
    "if z_cal > z_table:\n",
    "    print (\"H alpha is right\")\n",
    "else:\n",
    "    print (\"H nought is right\")"
   ]
  },
  {
   "cell_type": "code",
   "execution_count": null,
   "id": "0e45eb44-419a-4d41-89e7-609c544e0ac6",
   "metadata": {},
   "outputs": [],
   "source": []
  }
 ],
 "metadata": {
  "kernelspec": {
   "display_name": "Python 3 (ipykernel)",
   "language": "python",
   "name": "python3"
  },
  "language_info": {
   "codemirror_mode": {
    "name": "ipython",
    "version": 3
   },
   "file_extension": ".py",
   "mimetype": "text/x-python",
   "name": "python",
   "nbconvert_exporter": "python",
   "pygments_lexer": "ipython3",
   "version": "3.13.1"
  }
 },
 "nbformat": 4,
 "nbformat_minor": 5
}
