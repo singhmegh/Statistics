{
 "cells": [
  {
   "cell_type": "code",
   "execution_count": 1,
   "id": "7091f645-abfe-43b9-9bbb-9f567607a374",
   "metadata": {},
   "outputs": [],
   "source": [
    "import pandas as pd\n",
    "import numpy as np\n",
    "import matplotlib.pyplot as plt\n",
    "import seaborn as sns"
   ]
  },
  {
   "cell_type": "code",
   "execution_count": 2,
   "id": "958e59eb-2088-47e3-beac-ac3dc7e655ae",
   "metadata": {},
   "outputs": [],
   "source": [
    "dataset=pd.read_excel(\"C:/Users/sumit/Downloads/ESD-1.xlsx\")"
   ]
  },
  {
   "cell_type": "code",
   "execution_count": 3,
   "id": "fc674e15-80df-4a39-85f5-b88bc4193923",
   "metadata": {},
   "outputs": [
    {
     "data": {
      "text/plain": [
       "EEID               0\n",
       "Full Name          0\n",
       "Job Title          0\n",
       "Department         0\n",
       "Business Unit      0\n",
       "Gender             0\n",
       "Ethnicity          0\n",
       "Age                0\n",
       "Hire Date          0\n",
       "Annual Salary      0\n",
       "Bonus %            0\n",
       "Country            0\n",
       "City               0\n",
       "Exit Date        915\n",
       "dtype: int64"
      ]
     },
     "execution_count": 3,
     "metadata": {},
     "output_type": "execute_result"
    }
   ],
   "source": [
    "dataset.isnull().sum()"
   ]
  },
  {
   "cell_type": "code",
   "execution_count": 4,
   "id": "c6e267d2-34e3-4f14-a36b-d264d6c627b7",
   "metadata": {},
   "outputs": [
    {
     "data": {
      "text/plain": [
       "np.float64(45.0)"
      ]
     },
     "execution_count": 4,
     "metadata": {},
     "output_type": "execute_result"
    }
   ],
   "source": [
    "np.median(dataset[\"Age\"])"
   ]
  },
  {
   "cell_type": "code",
   "execution_count": 6,
   "id": "9f85d9ab-db9f-454c-85dc-0a5f2fc05bfd",
   "metadata": {},
   "outputs": [],
   "source": [
    "mn=np.median(dataset[\"Age\"])"
   ]
  },
  {
   "cell_type": "code",
   "execution_count": 7,
   "id": "07bbf9bb-c5ec-41d8-a1e7-380d8823c497",
   "metadata": {},
   "outputs": [
    {
     "data": {
      "image/png": "[encoded data removed]",
      "text/plain": [
       "<Figure size 640x480 with 1 Axes>"
      ]
     },
     "metadata": {},
     "output_type": "display_data"
    }
   ],
   "source": [
    "sns.histplot(x=\"Age\",data=dataset)\n",
    "plt.plot([mn for i in range\n",
    "plt.show()\n",
    "             "
   ]
  },
  {
   "cell_type": "code",
   "execution_count": null,
   "id": "f77e75dc-aed0-4dfd-83c0-cf5c53a5210b",
   "metadata": {},
   "outputs": [],
   "source": []
  }
 ],
 "metadata": {
  "kernelspec": {
   "display_name": "Python 3 (ipykernel)",
   "language": "python",
   "name": "python3"
  },
  "language_info": {
   "codemirror_mode": {
    "name": "ipython",
    "version": 3
   },
   "file_extension": ".py",
   "mimetype": "text/x-python",
   "name": "python",
   "nbconvert_exporter": "python",
   "pygments_lexer": "ipython3",
   "version": "3.13.1"
  }
 },
 "nbformat": 4,
 "nbformat_minor": 5
}
