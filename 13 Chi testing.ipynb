{
 "cells": [
  {
   "cell_type": "code",
   "execution_count": 6,
   "id": "08324a17-06c6-4c06-8ecb-282b09216c56",
   "metadata": {},
   "outputs": [],
   "source": [
    "import numpy as np\n",
    "import scipy.stats as st"
   ]
  },
  {
   "cell_type": "code",
   "execution_count": 7,
   "id": "52f656ea-58ef-46f2-a119-a7dd0bb11ad0",
   "metadata": {},
   "outputs": [],
   "source": [
    "ob = np.array([22,17,20,26,22,13])\n",
    "ex= np.array([20,20,20,20,20,20])"
   ]
  },
  {
   "cell_type": "code",
   "execution_count": 8,
   "id": "2f479da9-6d17-4acc-8699-e7c1ba438628",
   "metadata": {},
   "outputs": [
    {
     "data": {
      "text/plain": [
       "np.float64(5.1000000000000005)"
      ]
     },
     "execution_count": 8,
     "metadata": {},
     "output_type": "execute_result"
    }
   ],
   "source": [
    "np.sum(np.square(ob-ex)/ex)"
   ]
  },
  {
   "cell_type": "code",
   "execution_count": 15,
   "id": "31429854-5d6f-4d2a-b2d1-816fe976d131",
   "metadata": {},
   "outputs": [],
   "source": [
    "#example 2\n",
    "row1 = np.array([40,45,25,10])\n",
    "row2=np.array([35,30,20,30])"
   ]
  },
  {
   "cell_type": "code",
   "execution_count": 18,
   "id": "9375f522-2993-49e1-ab34-042308f4abe6",
   "metadata": {},
   "outputs": [
    {
     "data": {
      "text/plain": [
       "array([120, 115])"
      ]
     },
     "execution_count": 18,
     "metadata": {},
     "output_type": "execute_result"
    }
   ],
   "source": [
    "sum_r1 = np.sum(row1)\n",
    "sum_r2 = np.sum(row2)\n",
    "sum_row = np.array([sum_r1 ,sum_r2])\n",
    "sum_row"
   ]
  },
  {
   "cell_type": "code",
   "execution_count": 19,
   "id": "9a6c27c0-0736-4a7c-a751-b7209a83e8ea",
   "metadata": {},
   "outputs": [
    {
     "data": {
      "text/plain": [
       "array([75, 75, 45, 40])"
      ]
     },
     "execution_count": 19,
     "metadata": {},
     "output_type": "execute_result"
    }
   ],
   "source": [
    "sum_col = row1+row2\n",
    "sum_col"
   ]
  },
  {
   "cell_type": "code",
   "execution_count": 21,
   "id": "a4472d80-c703-4d35-9925-0b8b8197c149",
   "metadata": {},
   "outputs": [],
   "source": [
    "exp =[]\n",
    "for i in sum_row:\n",
    "    for j in sum_col :\n",
    "        value = (i*j)/235\n",
    "        exp.append(value)"
   ]
  },
  {
   "cell_type": "code",
   "execution_count": 22,
   "id": "9501517e-096a-40f2-84d2-e36d1ade3aeb",
   "metadata": {},
   "outputs": [
    {
     "data": {
      "text/plain": [
       "[np.float64(38.297872340425535),\n",
       " np.float64(38.297872340425535),\n",
       " np.float64(22.97872340425532),\n",
       " np.float64(20.425531914893618),\n",
       " np.float64(36.702127659574465),\n",
       " np.float64(36.702127659574465),\n",
       " np.float64(22.02127659574468),\n",
       " np.float64(19.574468085106382)]"
      ]
     },
     "execution_count": 22,
     "metadata": {},
     "output_type": "execute_result"
    }
   ],
   "source": [
    "exp"
   ]
  },
  {
   "cell_type": "code",
   "execution_count": 24,
   "id": "ade960c7-9ed1-48d0-aa22-a715c9014231",
   "metadata": {},
   "outputs": [
    {
     "data": {
      "text/plain": [
       "array([40, 45, 25, 10, 35, 30, 20, 30])"
      ]
     },
     "execution_count": 24,
     "metadata": {},
     "output_type": "execute_result"
    }
   ],
   "source": [
    "obj = np.array([40,45,25,10,35,30,20,30])\n",
    "obj"
   ]
  },
  {
   "cell_type": "code",
   "execution_count": 27,
   "id": "a26c9247-e1a9-4edf-bfbd-d3254883830b",
   "metadata": {},
   "outputs": [
    {
     "data": {
      "text/plain": [
       "np.float64(13.788747987117553)"
      ]
     },
     "execution_count": 27,
     "metadata": {},
     "output_type": "execute_result"
    }
   ],
   "source": [
    "chi = np.sum((np.square(obj-exp))/exp)\n",
    "chi"
   ]
  },
  {
   "cell_type": "code",
   "execution_count": null,
   "id": "b12cd0cc-ee53-4e85-b65b-0efe29498d1c",
   "metadata": {},
   "outputs": [],
   "source": []
  }
 ],
 "metadata": {
  "kernelspec": {
   "display_name": "Python 3 (ipykernel)",
   "language": "python",
   "name": "python3"
  },
  "language_info": {
   "codemirror_mode": {
    "name": "ipython",
    "version": 3
   },
   "file_extension": ".py",
   "mimetype": "text/x-python",
   "name": "python",
   "nbconvert_exporter": "python",
   "pygments_lexer": "ipython3",
   "version": "3.13.1"
  }
 },
 "nbformat": 4,
 "nbformat_minor": 5
}
