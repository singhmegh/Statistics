{
 "cells": [
  {
   "cell_type": "code",
   "execution_count": 2,
   "id": "ad794d94-99e1-4440-8570-3192277ec270",
   "metadata": {},
   "outputs": [],
   "source": [
    "import pandas as pd\n",
    "import numpy as np"
   ]
  },
  {
   "cell_type": "code",
   "execution_count": 3,
   "id": "3e804beb-008a-4c19-bf8a-b20193d40b7c",
   "metadata": {},
   "outputs": [],
   "source": [
    "ar=np.array([4,5,6,2,1,8,5,6,4,7])"
   ]
  },
  {
   "cell_type": "code",
   "execution_count": 4,
   "id": "ecbe5113-8a11-406c-8c54-e1da4319db4f",
   "metadata": {},
   "outputs": [
    {
     "data": {
      "text/plain": [
       "np.int64(48)"
      ]
     },
     "execution_count": 4,
     "metadata": {},
     "output_type": "execute_result"
    }
   ],
   "source": [
    "np.sum(ar)"
   ]
  },
  {
   "cell_type": "code",
   "execution_count": null,
   "id": "1387771c-87b8-40b0-8f12-6516c4e5b074",
   "metadata": {},
   "outputs": [],
   "source": []
  }
 ],
 "metadata": {
  "kernelspec": {
   "display_name": "Python 3 (ipykernel)",
   "language": "python",
   "name": "python3"
  },
  "language_info": {
   "codemirror_mode": {
    "name": "ipython",
    "version": 3
   },
   "file_extension": ".py",
   "mimetype": "text/x-python",
   "name": "python",
   "nbconvert_exporter": "python",
   "pygments_lexer": "ipython3",
   "version": "3.13.1"
  }
 },
 "nbformat": 4,
 "nbformat_minor": 5
}
