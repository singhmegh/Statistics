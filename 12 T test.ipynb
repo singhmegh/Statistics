{
 "cells": [
  {
   "cell_type": "code",
   "execution_count": 1,
   "id": "7c601593-e319-4b0f-aba2-568be5fb500a",
   "metadata": {},
   "outputs": [],
   "source": [
    "import scipy.stats as st\n",
    "import numpy as np"
   ]
  },
  {
   "cell_type": "code",
   "execution_count": 3,
   "id": "fc1f39bf-7aea-41cd-a0fb-6b38ecbcfd72",
   "metadata": {},
   "outputs": [
    {
     "data": {
      "text/plain": [
       "np.float64(2.093024054408263)"
      ]
     },
     "execution_count": 3,
     "metadata": {},
     "output_type": "execute_result"
    }
   ],
   "source": [
    "t_table=st.t.ppf(1-0.025,19)\n",
    "t_table"
   ]
  },
  {
   "cell_type": "code",
   "execution_count": 4,
   "id": "a44abee0-a2bf-4a02-8641-aff24bb29973",
   "metadata": {},
   "outputs": [],
   "source": [
    "Before = np.array([50,60,45,65,55,70,40,75,80,65,70,60,50,55,45,75,60,50,65,70])\n",
    "After = np.array([60,70,55,75,65,80,50,85,90,70,75,65,55,60,50,80,65,55,70,75])"
   ]
  },
  {
   "cell_type": "code",
   "execution_count": 5,
   "id": "31f8dce2-14df-48d2-bc18-88e36aa08c18",
   "metadata": {},
   "outputs": [],
   "source": [
    "std_a = np.std(After)\n",
    "std_b = np.std(Before)\n",
    "mean_a = np.mean(After)\n",
    "mean_b = np.mean(Before)"
   ]
  },
  {
   "cell_type": "code",
   "execution_count": null,
   "id": "cf75862e-f5ed-4257-bf4f-a50d4a03b0aa",
   "metadata": {},
   "outputs": [],
   "source": [
    "t_cal = (mean_a-mean_b)/(np.sqrt(((std_a"
   ]
  }
 ],
 "metadata": {
  "kernelspec": {
   "display_name": "Python 3 (ipykernel)",
   "language": "python",
   "name": "python3"
  },
  "language_info": {
   "codemirror_mode": {
    "name": "ipython",
    "version": 3
   },
   "file_extension": ".py",
   "mimetype": "text/x-python",
   "name": "python",
   "nbconvert_exporter": "python",
   "pygments_lexer": "ipython3",
   "version": "3.13.1"
  }
 },
 "nbformat": 4,
 "nbformat_minor": 5
}
